{
  "nbformat": 4,
  "nbformat_minor": 0,
  "metadata": {
    "colab": {
      "provenance": [],
      "authorship_tag": "ABX9TyPaYFRxFjVl3pt+6KH30tI3",
      "include_colab_link": true
    },
    "kernelspec": {
      "name": "python3",
      "display_name": "Python 3"
    },
    "language_info": {
      "name": "python"
    }
  },
  "cells": [
    {
      "cell_type": "markdown",
      "metadata": {
        "id": "view-in-github",
        "colab_type": "text"
      },
      "source": [
        "<a href=\"https://colab.research.google.com/github/StockRecursiveOverflow/ML/blob/main/back_propagation.ipynb\" target=\"_parent\"><img src=\"https://colab.research.google.com/assets/colab-badge.svg\" alt=\"Open In Colab\"/></a>"
      ]
    },
    {
      "cell_type": "code",
      "execution_count": 4,
      "metadata": {
        "id": "fCKhlGSM1FbY"
      },
      "outputs": [],
      "source": [
        "import numpy as np\n",
        "learning_rate = 0.5\n",
        "X = np.array([[1, 2]])\n",
        "W_hidden = np.array([[-0.7566, 0.0948],\n",
        "               [-0.6572, 0.8040]])\n",
        "W_output = np.array([[0.6958, -0.7922]])\n",
        "\n",
        "def sigmoid(x):\n",
        "    return 1 / (1 + np.exp(-x))\n",
        "\n",
        "def sigmoid_derivative(x):\n",
        "    sig = sigmoid(x)\n",
        "    return sig * (1 - sig)\n",
        "\n",
        "def forward_propagation(X, W_hidden, W_output):\n",
        "    y1 = np.dot(X, W_hidden)\n",
        "    a1 = sigmoid(y1)\n",
        "    y2 = np.dot(a1, W_output.T)\n",
        "    a2 = sigmoid(y2)\n",
        "    return y1, a1, y2, a2\n",
        "\n",
        "def back_propagation(X, W_hidden, W_output, y):\n",
        "    y1, a1, y2, a2 = forward_propagation(X, W_hidden, W_output)\n",
        "    d_a2 = 2 * (a2 - y)\n",
        "    print(\"predict \", a2.round(5))\n",
        "    d_y2 = sigmoid_derivative(y2)\n",
        "    d_W_output = np.dot(a1.T, d_y2 * d_a2)\n",
        "    d_a1 = np.dot(d_y2 * d_a2, W_output)\n",
        "    d_y1 = sigmoid_derivative(y1)\n",
        "    d_W_hidden = np.dot(X.T, d_y1 * d_a1)\n",
        "\n",
        "    return d_W_hidden, d_W_output"
      ]
    },
    {
      "cell_type": "code",
      "source": [
        "for i in range(100):\n",
        "    d_W_hidden, d_W_output = back_propagation(X, W_hidden, W_output, 1)\n",
        "    W_hidden = W_hidden - learning_rate * d_W_hidden.T\n",
        "    W_output = W_output - learning_rate * d_W_output.T"
      ],
      "metadata": {
        "colab": {
          "base_uri": "https://localhost:8080/"
        },
        "id": "jFJzJURaO9Kk",
        "outputId": "cc4e51aa-5c22-4ce7-e2c0-9ce2ce3b70b3"
      },
      "execution_count": 5,
      "outputs": [
        {
          "output_type": "stream",
          "name": "stdout",
          "text": [
            "predict  [[0.35612]]\n",
            "predict  [[0.38164]]\n",
            "predict  [[0.40697]]\n",
            "predict  [[0.43187]]\n",
            "predict  [[0.45617]]\n",
            "predict  [[0.47975]]\n",
            "predict  [[0.50254]]\n",
            "predict  [[0.52449]]\n",
            "predict  [[0.54557]]\n",
            "predict  [[0.56574]]\n",
            "predict  [[0.58498]]\n",
            "predict  [[0.60326]]\n",
            "predict  [[0.62058]]\n",
            "predict  [[0.63693]]\n",
            "predict  [[0.65231]]\n",
            "predict  [[0.66674]]\n",
            "predict  [[0.68025]]\n",
            "predict  [[0.69289]]\n",
            "predict  [[0.70469]]\n",
            "predict  [[0.7157]]\n",
            "predict  [[0.72597]]\n",
            "predict  [[0.73555]]\n",
            "predict  [[0.74449]]\n",
            "predict  [[0.75284]]\n",
            "predict  [[0.76064]]\n",
            "predict  [[0.76795]]\n",
            "predict  [[0.77479]]\n",
            "predict  [[0.7812]]\n",
            "predict  [[0.78723]]\n",
            "predict  [[0.79289]]\n",
            "predict  [[0.79823]]\n",
            "predict  [[0.80326]]\n",
            "predict  [[0.808]]\n",
            "predict  [[0.81249]]\n",
            "predict  [[0.81674]]\n",
            "predict  [[0.82076]]\n",
            "predict  [[0.82458]]\n",
            "predict  [[0.82821]]\n",
            "predict  [[0.83167]]\n",
            "predict  [[0.83495]]\n",
            "predict  [[0.83809]]\n",
            "predict  [[0.84108]]\n",
            "predict  [[0.84394]]\n",
            "predict  [[0.84667]]\n",
            "predict  [[0.84929]]\n",
            "predict  [[0.85179]]\n",
            "predict  [[0.8542]]\n",
            "predict  [[0.85651]]\n",
            "predict  [[0.85872]]\n",
            "predict  [[0.86086]]\n",
            "predict  [[0.86291]]\n",
            "predict  [[0.86488]]\n",
            "predict  [[0.86679]]\n",
            "predict  [[0.86863]]\n",
            "predict  [[0.8704]]\n",
            "predict  [[0.87211]]\n",
            "predict  [[0.87377]]\n",
            "predict  [[0.87537]]\n",
            "predict  [[0.87691]]\n",
            "predict  [[0.87841]]\n",
            "predict  [[0.87987]]\n",
            "predict  [[0.88127]]\n",
            "predict  [[0.88264]]\n",
            "predict  [[0.88396]]\n",
            "predict  [[0.88525]]\n",
            "predict  [[0.8865]]\n",
            "predict  [[0.88771]]\n",
            "predict  [[0.88889]]\n",
            "predict  [[0.89004]]\n",
            "predict  [[0.89116]]\n",
            "predict  [[0.89224]]\n",
            "predict  [[0.8933]]\n",
            "predict  [[0.89433]]\n",
            "predict  [[0.89534]]\n",
            "predict  [[0.89632]]\n",
            "predict  [[0.89727]]\n",
            "predict  [[0.89821]]\n",
            "predict  [[0.89912]]\n",
            "predict  [[0.90001]]\n",
            "predict  [[0.90087]]\n",
            "predict  [[0.90172]]\n",
            "predict  [[0.90255]]\n",
            "predict  [[0.90336]]\n",
            "predict  [[0.90415]]\n",
            "predict  [[0.90493]]\n",
            "predict  [[0.90569]]\n",
            "predict  [[0.90643]]\n",
            "predict  [[0.90715]]\n",
            "predict  [[0.90787]]\n",
            "predict  [[0.90856]]\n",
            "predict  [[0.90925]]\n",
            "predict  [[0.90991]]\n",
            "predict  [[0.91057]]\n",
            "predict  [[0.91121]]\n",
            "predict  [[0.91184]]\n",
            "predict  [[0.91246]]\n",
            "predict  [[0.91307]]\n",
            "predict  [[0.91367]]\n",
            "predict  [[0.91425]]\n",
            "predict  [[0.91482]]\n"
          ]
        }
      ]
    },
    {
      "cell_type": "code",
      "source": [],
      "metadata": {
        "id": "7yQf9YPKBoMB"
      },
      "execution_count": 5,
      "outputs": []
    }
  ]
}